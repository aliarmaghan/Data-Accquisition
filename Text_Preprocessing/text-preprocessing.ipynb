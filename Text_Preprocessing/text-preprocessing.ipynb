{
 "cells": [
  {
   "cell_type": "code",
   "execution_count": 1,
   "id": "1e893929",
   "metadata": {
    "_cell_guid": "b1076dfc-b9ad-4769-8c92-a6c4dae69d19",
    "_uuid": "8f2839f25d086af736a60e9eeb907d3b93b6e0e5",
    "execution": {
     "iopub.execute_input": "2024-05-23T00:28:00.026547Z",
     "iopub.status.busy": "2024-05-23T00:28:00.026068Z",
     "iopub.status.idle": "2024-05-23T00:28:01.077472Z",
     "shell.execute_reply": "2024-05-23T00:28:01.076116Z"
    },
    "papermill": {
     "duration": 1.077638,
     "end_time": "2024-05-23T00:28:01.080190",
     "exception": false,
     "start_time": "2024-05-23T00:28:00.002552",
     "status": "completed"
    },
    "tags": []
   },
   "outputs": [
    {
     "name": "stdout",
     "output_type": "stream",
     "text": [
      "/kaggle/input/slang-word/slang.txt\n",
      "/kaggle/input/imdb-movies-reviews/IMDB Dataset.csv\n"
     ]
    }
   ],
   "source": [
    "# This Python 3 environment comes with many helpful analytics libraries installed\n",
    "# It is defined by the kaggle/python Docker image: https://github.com/kaggle/docker-python\n",
    "# For example, here's several helpful packages to load\n",
    "\n",
    "import numpy as np # linear algebra\n",
    "import pandas as pd # data processing, CSV file I/O (e.g. pd.read_csv)\n",
    "\n",
    "# Input data files are available in the read-only \"../input/\" directory\n",
    "# For example, running this (by clicking run or pressing Shift+Enter) will list all files under the input directory\n",
    "\n",
    "import os\n",
    "for dirname, _, filenames in os.walk('/kaggle/input'):\n",
    "    for filename in filenames:\n",
    "        print(os.path.join(dirname, filename))\n",
    "\n",
    "# You can write up to 20GB to the current directory (/kaggle/working/) that gets preserved as output when you create a version using \"Save & Run All\" \n",
    "# You can also write temporary files to /kaggle/temp/, but they won't be saved outside of the current session"
   ]
  },
  {
   "cell_type": "markdown",
   "id": "1c60cc2d",
   "metadata": {
    "papermill": {
     "duration": 0.019602,
     "end_time": "2024-05-23T00:28:01.120145",
     "exception": false,
     "start_time": "2024-05-23T00:28:01.100543",
     "status": "completed"
    },
    "tags": []
   },
   "source": [
    "# Reading csv file\n"
   ]
  },
  {
   "cell_type": "code",
   "execution_count": 2,
   "id": "f7f41c87",
   "metadata": {
    "execution": {
     "iopub.execute_input": "2024-05-23T00:28:01.163689Z",
     "iopub.status.busy": "2024-05-23T00:28:01.163097Z",
     "iopub.status.idle": "2024-05-23T00:28:02.640580Z",
     "shell.execute_reply": "2024-05-23T00:28:02.639367Z"
    },
    "papermill": {
     "duration": 1.502745,
     "end_time": "2024-05-23T00:28:02.644200",
     "exception": false,
     "start_time": "2024-05-23T00:28:01.141455",
     "status": "completed"
    },
    "tags": []
   },
   "outputs": [
    {
     "data": {
      "text/plain": [
       "(50000, 2)"
      ]
     },
     "execution_count": 2,
     "metadata": {},
     "output_type": "execute_result"
    }
   ],
   "source": [
    "df = pd.read_csv('/kaggle/input/imdb-movies-reviews/IMDB Dataset.csv')\n",
    "df.shape"
   ]
  },
  {
   "cell_type": "markdown",
   "id": "5b80cc6e",
   "metadata": {
    "papermill": {
     "duration": 0.02134,
     "end_time": "2024-05-23T00:28:02.687035",
     "exception": false,
     "start_time": "2024-05-23T00:28:02.665695",
     "status": "completed"
    },
    "tags": []
   },
   "source": [
    "# converting to lowercase\n"
   ]
  },
  {
   "cell_type": "code",
   "execution_count": 3,
   "id": "bd0e2c90",
   "metadata": {
    "execution": {
     "iopub.execute_input": "2024-05-23T00:28:02.733478Z",
     "iopub.status.busy": "2024-05-23T00:28:02.732719Z",
     "iopub.status.idle": "2024-05-23T00:28:02.981163Z",
     "shell.execute_reply": "2024-05-23T00:28:02.980146Z"
    },
    "papermill": {
     "duration": 0.274757,
     "end_time": "2024-05-23T00:28:02.983899",
     "exception": false,
     "start_time": "2024-05-23T00:28:02.709142",
     "status": "completed"
    },
    "tags": []
   },
   "outputs": [
    {
     "data": {
      "text/html": [
       "<div>\n",
       "<style scoped>\n",
       "    .dataframe tbody tr th:only-of-type {\n",
       "        vertical-align: middle;\n",
       "    }\n",
       "\n",
       "    .dataframe tbody tr th {\n",
       "        vertical-align: top;\n",
       "    }\n",
       "\n",
       "    .dataframe thead th {\n",
       "        text-align: right;\n",
       "    }\n",
       "</style>\n",
       "<table border=\"1\" class=\"dataframe\">\n",
       "  <thead>\n",
       "    <tr style=\"text-align: right;\">\n",
       "      <th></th>\n",
       "      <th>review</th>\n",
       "      <th>sentiment</th>\n",
       "    </tr>\n",
       "  </thead>\n",
       "  <tbody>\n",
       "    <tr>\n",
       "      <th>0</th>\n",
       "      <td>one of the other reviewers has mentioned that ...</td>\n",
       "      <td>positive</td>\n",
       "    </tr>\n",
       "    <tr>\n",
       "      <th>1</th>\n",
       "      <td>a wonderful little production. &lt;br /&gt;&lt;br /&gt;the...</td>\n",
       "      <td>positive</td>\n",
       "    </tr>\n",
       "    <tr>\n",
       "      <th>2</th>\n",
       "      <td>i thought this was a wonderful way to spend ti...</td>\n",
       "      <td>positive</td>\n",
       "    </tr>\n",
       "    <tr>\n",
       "      <th>3</th>\n",
       "      <td>basically there's a family where a little boy ...</td>\n",
       "      <td>negative</td>\n",
       "    </tr>\n",
       "    <tr>\n",
       "      <th>4</th>\n",
       "      <td>petter mattei's \"love in the time of money\" is...</td>\n",
       "      <td>positive</td>\n",
       "    </tr>\n",
       "    <tr>\n",
       "      <th>...</th>\n",
       "      <td>...</td>\n",
       "      <td>...</td>\n",
       "    </tr>\n",
       "    <tr>\n",
       "      <th>49995</th>\n",
       "      <td>i thought this movie did a down right good job...</td>\n",
       "      <td>positive</td>\n",
       "    </tr>\n",
       "    <tr>\n",
       "      <th>49996</th>\n",
       "      <td>bad plot, bad dialogue, bad acting, idiotic di...</td>\n",
       "      <td>negative</td>\n",
       "    </tr>\n",
       "    <tr>\n",
       "      <th>49997</th>\n",
       "      <td>i am a catholic taught in parochial elementary...</td>\n",
       "      <td>negative</td>\n",
       "    </tr>\n",
       "    <tr>\n",
       "      <th>49998</th>\n",
       "      <td>i'm going to have to disagree with the previou...</td>\n",
       "      <td>negative</td>\n",
       "    </tr>\n",
       "    <tr>\n",
       "      <th>49999</th>\n",
       "      <td>no one expects the star trek movies to be high...</td>\n",
       "      <td>negative</td>\n",
       "    </tr>\n",
       "  </tbody>\n",
       "</table>\n",
       "<p>50000 rows × 2 columns</p>\n",
       "</div>"
      ],
      "text/plain": [
       "                                                  review sentiment\n",
       "0      one of the other reviewers has mentioned that ...  positive\n",
       "1      a wonderful little production. <br /><br />the...  positive\n",
       "2      i thought this was a wonderful way to spend ti...  positive\n",
       "3      basically there's a family where a little boy ...  negative\n",
       "4      petter mattei's \"love in the time of money\" is...  positive\n",
       "...                                                  ...       ...\n",
       "49995  i thought this movie did a down right good job...  positive\n",
       "49996  bad plot, bad dialogue, bad acting, idiotic di...  negative\n",
       "49997  i am a catholic taught in parochial elementary...  negative\n",
       "49998  i'm going to have to disagree with the previou...  negative\n",
       "49999  no one expects the star trek movies to be high...  negative\n",
       "\n",
       "[50000 rows x 2 columns]"
      ]
     },
     "execution_count": 3,
     "metadata": {},
     "output_type": "execute_result"
    }
   ],
   "source": [
    "df['review'] = df['review'].str.lower()\n",
    "df"
   ]
  },
  {
   "cell_type": "markdown",
   "id": "af60c73c",
   "metadata": {
    "papermill": {
     "duration": 0.020392,
     "end_time": "2024-05-23T00:28:03.024922",
     "exception": false,
     "start_time": "2024-05-23T00:28:03.004530",
     "status": "completed"
    },
    "tags": []
   },
   "source": [
    "# Removing HTML Tags\n",
    "    (use this expression <.*?> for removing html tags )"
   ]
  },
  {
   "cell_type": "code",
   "execution_count": 4,
   "id": "3396722e",
   "metadata": {
    "execution": {
     "iopub.execute_input": "2024-05-23T00:28:03.068930Z",
     "iopub.status.busy": "2024-05-23T00:28:03.067712Z",
     "iopub.status.idle": "2024-05-23T00:28:03.074695Z",
     "shell.execute_reply": "2024-05-23T00:28:03.073685Z"
    },
    "papermill": {
     "duration": 0.031191,
     "end_time": "2024-05-23T00:28:03.076974",
     "exception": false,
     "start_time": "2024-05-23T00:28:03.045783",
     "status": "completed"
    },
    "tags": []
   },
   "outputs": [],
   "source": [
    "import re\n",
    "def remove_html_tags(text):\n",
    "    pattern = re.compile('<.*>')\n",
    "    return pattern.sub(r'', text)"
   ]
  },
  {
   "cell_type": "code",
   "execution_count": 5,
   "id": "46d3cfd5",
   "metadata": {
    "execution": {
     "iopub.execute_input": "2024-05-23T00:28:03.119584Z",
     "iopub.status.busy": "2024-05-23T00:28:03.119164Z",
     "iopub.status.idle": "2024-05-23T00:28:03.316134Z",
     "shell.execute_reply": "2024-05-23T00:28:03.314487Z"
    },
    "papermill": {
     "duration": 0.22167,
     "end_time": "2024-05-23T00:28:03.318976",
     "exception": false,
     "start_time": "2024-05-23T00:28:03.097306",
     "status": "completed"
    },
    "tags": []
   },
   "outputs": [
    {
     "data": {
      "text/plain": [
       "0        one of the other reviewers has mentioned that ...\n",
       "1        a wonderful little production. the realism rea...\n",
       "2        i thought this was a wonderful way to spend ti...\n",
       "3        basically there's a family where a little boy ...\n",
       "4        petter mattei's \"love in the time of money\" is...\n",
       "                               ...                        \n",
       "49995    i thought this movie did a down right good job...\n",
       "49996    bad plot, bad dialogue, bad acting, idiotic di...\n",
       "49997    i am a catholic taught in parochial elementary...\n",
       "49998    i'm going to have to disagree with the previou...\n",
       "49999    no one expects the star trek movies to be high...\n",
       "Name: review, Length: 50000, dtype: object"
      ]
     },
     "execution_count": 5,
     "metadata": {},
     "output_type": "execute_result"
    }
   ],
   "source": [
    "df['review'].apply(remove_html_tags)"
   ]
  },
  {
   "cell_type": "markdown",
   "id": "2cad3709",
   "metadata": {
    "papermill": {
     "duration": 0.020325,
     "end_time": "2024-05-23T00:28:03.360449",
     "exception": false,
     "start_time": "2024-05-23T00:28:03.340124",
     "status": "completed"
    },
    "tags": []
   },
   "source": [
    "# Remove url\n",
    "    (use this expression 'https?://\\S+|www\\.\\S+' for removing urls )"
   ]
  },
  {
   "cell_type": "code",
   "execution_count": 6,
   "id": "e7f81862",
   "metadata": {
    "execution": {
     "iopub.execute_input": "2024-05-23T00:28:03.403717Z",
     "iopub.status.busy": "2024-05-23T00:28:03.403287Z",
     "iopub.status.idle": "2024-05-23T00:28:03.408886Z",
     "shell.execute_reply": "2024-05-23T00:28:03.407738Z"
    },
    "papermill": {
     "duration": 0.030066,
     "end_time": "2024-05-23T00:28:03.411066",
     "exception": false,
     "start_time": "2024-05-23T00:28:03.381000",
     "status": "completed"
    },
    "tags": []
   },
   "outputs": [],
   "source": [
    "def remove_url(text):\n",
    "    pattern = re.compile(r'https?://\\S+|www\\.\\S+')\n",
    "    return pattern.sub(r'', text)"
   ]
  },
  {
   "cell_type": "code",
   "execution_count": 7,
   "id": "40f92128",
   "metadata": {
    "execution": {
     "iopub.execute_input": "2024-05-23T00:28:03.454181Z",
     "iopub.status.busy": "2024-05-23T00:28:03.453747Z",
     "iopub.status.idle": "2024-05-23T00:28:03.459607Z",
     "shell.execute_reply": "2024-05-23T00:28:03.458341Z"
    },
    "papermill": {
     "duration": 0.030413,
     "end_time": "2024-05-23T00:28:03.462086",
     "exception": false,
     "start_time": "2024-05-23T00:28:03.431673",
     "status": "completed"
    },
    "tags": []
   },
   "outputs": [],
   "source": [
    "text1 ='i am good https://www.kaggle.com/code/mdaliarmaghan/text-preprocessing/edit'\n",
    "text2 ='i am better http://www.kaggle.com/code/mdaliarmaghan/text-preprocessing/edit'\n",
    "text3 ='i am great www.kaggle.com/code/mdaliarmaghan/text-preprocessing/edit'"
   ]
  },
  {
   "cell_type": "code",
   "execution_count": 8,
   "id": "ceda4019",
   "metadata": {
    "execution": {
     "iopub.execute_input": "2024-05-23T00:28:03.505740Z",
     "iopub.status.busy": "2024-05-23T00:28:03.505338Z",
     "iopub.status.idle": "2024-05-23T00:28:03.512135Z",
     "shell.execute_reply": "2024-05-23T00:28:03.511018Z"
    },
    "papermill": {
     "duration": 0.0319,
     "end_time": "2024-05-23T00:28:03.514647",
     "exception": false,
     "start_time": "2024-05-23T00:28:03.482747",
     "status": "completed"
    },
    "tags": []
   },
   "outputs": [
    {
     "data": {
      "text/plain": [
       "'i am great '"
      ]
     },
     "execution_count": 8,
     "metadata": {},
     "output_type": "execute_result"
    }
   ],
   "source": [
    "remove_url(text3)"
   ]
  },
  {
   "cell_type": "markdown",
   "id": "cd1296a0",
   "metadata": {
    "papermill": {
     "duration": 0.020387,
     "end_time": "2024-05-23T00:28:03.555616",
     "exception": false,
     "start_time": "2024-05-23T00:28:03.535229",
     "status": "completed"
    },
    "tags": []
   },
   "source": [
    "# Remove Punctuation "
   ]
  },
  {
   "cell_type": "code",
   "execution_count": 9,
   "id": "cb14b925",
   "metadata": {
    "execution": {
     "iopub.execute_input": "2024-05-23T00:28:03.598489Z",
     "iopub.status.busy": "2024-05-23T00:28:03.598069Z",
     "iopub.status.idle": "2024-05-23T00:28:03.605608Z",
     "shell.execute_reply": "2024-05-23T00:28:03.604709Z"
    },
    "papermill": {
     "duration": 0.031815,
     "end_time": "2024-05-23T00:28:03.607902",
     "exception": false,
     "start_time": "2024-05-23T00:28:03.576087",
     "status": "completed"
    },
    "tags": []
   },
   "outputs": [
    {
     "data": {
      "text/plain": [
       "'!\"#$%&\\'()*+,-./:;<=>?@[\\\\]^_`{|}~'"
      ]
     },
     "execution_count": 9,
     "metadata": {},
     "output_type": "execute_result"
    }
   ],
   "source": [
    "import string,time\n",
    "string.punctuation"
   ]
  },
  {
   "cell_type": "code",
   "execution_count": 10,
   "id": "3225c41a",
   "metadata": {
    "execution": {
     "iopub.execute_input": "2024-05-23T00:28:03.651503Z",
     "iopub.status.busy": "2024-05-23T00:28:03.651092Z",
     "iopub.status.idle": "2024-05-23T00:28:03.656140Z",
     "shell.execute_reply": "2024-05-23T00:28:03.654834Z"
    },
    "papermill": {
     "duration": 0.029624,
     "end_time": "2024-05-23T00:28:03.658450",
     "exception": false,
     "start_time": "2024-05-23T00:28:03.628826",
     "status": "completed"
    },
    "tags": []
   },
   "outputs": [],
   "source": [
    "exclude = string.punctuation"
   ]
  },
  {
   "cell_type": "markdown",
   "id": "3a3cae2c",
   "metadata": {
    "papermill": {
     "duration": 0.026798,
     "end_time": "2024-05-23T00:28:03.709000",
     "exception": false,
     "start_time": "2024-05-23T00:28:03.682202",
     "status": "completed"
    },
    "tags": []
   },
   "source": [
    "**First method..**"
   ]
  },
  {
   "cell_type": "code",
   "execution_count": 11,
   "id": "fb9f9911",
   "metadata": {
    "execution": {
     "iopub.execute_input": "2024-05-23T00:28:03.760809Z",
     "iopub.status.busy": "2024-05-23T00:28:03.760400Z",
     "iopub.status.idle": "2024-05-23T00:28:03.767429Z",
     "shell.execute_reply": "2024-05-23T00:28:03.765222Z"
    },
    "papermill": {
     "duration": 0.035254,
     "end_time": "2024-05-23T00:28:03.770190",
     "exception": false,
     "start_time": "2024-05-23T00:28:03.734936",
     "status": "completed"
    },
    "tags": []
   },
   "outputs": [],
   "source": [
    "def remove_punc(text):\n",
    "    for char in exclude:\n",
    "        text = text.replace(char, '')\n",
    "    return text"
   ]
  },
  {
   "cell_type": "code",
   "execution_count": 12,
   "id": "68dee35e",
   "metadata": {
    "execution": {
     "iopub.execute_input": "2024-05-23T00:28:03.823751Z",
     "iopub.status.busy": "2024-05-23T00:28:03.823130Z",
     "iopub.status.idle": "2024-05-23T00:28:03.829515Z",
     "shell.execute_reply": "2024-05-23T00:28:03.827843Z"
    },
    "papermill": {
     "duration": 0.037981,
     "end_time": "2024-05-23T00:28:03.832860",
     "exception": false,
     "start_time": "2024-05-23T00:28:03.794879",
     "status": "completed"
    },
    "tags": []
   },
   "outputs": [],
   "source": [
    "text = \"string . with , punctuation?/\""
   ]
  },
  {
   "cell_type": "code",
   "execution_count": 13,
   "id": "d6788eb2",
   "metadata": {
    "execution": {
     "iopub.execute_input": "2024-05-23T00:28:03.884515Z",
     "iopub.status.busy": "2024-05-23T00:28:03.884106Z",
     "iopub.status.idle": "2024-05-23T00:28:03.889242Z",
     "shell.execute_reply": "2024-05-23T00:28:03.888344Z"
    },
    "papermill": {
     "duration": 0.034644,
     "end_time": "2024-05-23T00:28:03.892095",
     "exception": false,
     "start_time": "2024-05-23T00:28:03.857451",
     "status": "completed"
    },
    "tags": []
   },
   "outputs": [
    {
     "name": "stdout",
     "output_type": "stream",
     "text": [
      "string  with  punctuation\n",
      "0.00012946128845214844\n"
     ]
    }
   ],
   "source": [
    "strt = time.time()\n",
    "print(remove_punc(text))\n",
    "time1 = time.time()- strt\n",
    "print(time1)"
   ]
  },
  {
   "cell_type": "markdown",
   "id": "430a263f",
   "metadata": {
    "papermill": {
     "duration": 0.021735,
     "end_time": "2024-05-23T00:28:03.934918",
     "exception": false,
     "start_time": "2024-05-23T00:28:03.913183",
     "status": "completed"
    },
    "tags": []
   },
   "source": [
    "**2nd method and faster method :**"
   ]
  },
  {
   "cell_type": "code",
   "execution_count": 14,
   "id": "7bb066a6",
   "metadata": {
    "execution": {
     "iopub.execute_input": "2024-05-23T00:28:04.040572Z",
     "iopub.status.busy": "2024-05-23T00:28:04.039540Z",
     "iopub.status.idle": "2024-05-23T00:28:04.044826Z",
     "shell.execute_reply": "2024-05-23T00:28:04.043750Z"
    },
    "papermill": {
     "duration": 0.091439,
     "end_time": "2024-05-23T00:28:04.047453",
     "exception": false,
     "start_time": "2024-05-23T00:28:03.956014",
     "status": "completed"
    },
    "tags": []
   },
   "outputs": [],
   "source": [
    "def remove_punc1(text):\n",
    "    return text.translate(str.maketrans('','',exclude))"
   ]
  },
  {
   "cell_type": "code",
   "execution_count": 15,
   "id": "5ed99a90",
   "metadata": {
    "execution": {
     "iopub.execute_input": "2024-05-23T00:28:04.091857Z",
     "iopub.status.busy": "2024-05-23T00:28:04.091452Z",
     "iopub.status.idle": "2024-05-23T00:28:04.097916Z",
     "shell.execute_reply": "2024-05-23T00:28:04.096712Z"
    },
    "papermill": {
     "duration": 0.031666,
     "end_time": "2024-05-23T00:28:04.100457",
     "exception": false,
     "start_time": "2024-05-23T00:28:04.068791",
     "status": "completed"
    },
    "tags": []
   },
   "outputs": [
    {
     "name": "stdout",
     "output_type": "stream",
     "text": [
      "string  with  punctuation\n",
      "0.0001895427703857422\n"
     ]
    }
   ],
   "source": [
    "strt1 = time.time()\n",
    "print(remove_punc1(text))\n",
    "time2 = time.time()- strt1\n",
    "print(time2)"
   ]
  },
  {
   "cell_type": "markdown",
   "id": "e52cd2ff",
   "metadata": {
    "papermill": {
     "duration": 0.025253,
     "end_time": "2024-05-23T00:28:04.149353",
     "exception": false,
     "start_time": "2024-05-23T00:28:04.124100",
     "status": "completed"
    },
    "tags": []
   },
   "source": [
    "# Convert txt into Dictionary*** \n"
   ]
  },
  {
   "cell_type": "code",
   "execution_count": 16,
   "id": "5a10b468",
   "metadata": {
    "execution": {
     "iopub.execute_input": "2024-05-23T00:28:04.203631Z",
     "iopub.status.busy": "2024-05-23T00:28:04.202758Z",
     "iopub.status.idle": "2024-05-23T00:28:04.216303Z",
     "shell.execute_reply": "2024-05-23T00:28:04.215339Z"
    },
    "papermill": {
     "duration": 0.044517,
     "end_time": "2024-05-23T00:28:04.219603",
     "exception": false,
     "start_time": "2024-05-23T00:28:04.175086",
     "status": "completed"
    },
    "tags": []
   },
   "outputs": [
    {
     "name": "stdout",
     "output_type": "stream",
     "text": [
      "{'AFAIK': 'As Far As I Know', 'AFK': 'Away From Keyboard', 'ASAP': 'As Soon As Possible', 'ATK': 'At The Keyboard', 'ATM': 'At The Moment', 'A3': 'Anytime, Anywhere, Anyplace', 'BAK': 'Back At Keyboard', 'BBL': 'Be Back Later', 'BBS': 'Be Back Soon', 'BFN': 'Bye For Now', 'B4N': 'Bye For Now', 'BRB': 'Be Right Back', 'BRT': 'Be Right There', 'BTW': 'By The Way', 'B4': 'Before', 'CU': 'See You', 'CUL8R': 'See You Later', 'CYA': 'See You', 'FAQ': 'Frequently Asked Questions', 'FC': 'Fingers Crossed', 'FWIW': \"For What It's Worth\", 'FYI': 'For Your Information', 'GAL': 'Get A Life', 'GG': 'Good Game', 'GN': 'Good Night', 'GMTA': 'Great Minds Think Alike', 'GR8': 'Great!', 'G9': 'Genius', 'IC': 'I See', 'ICQ': 'I Seek you (also a chat program)', 'ILU': 'ILU: I Love You', 'IMHO': 'In My Honest/Humble Opinion', 'IMO': 'In My Opinion', 'IOW': 'In Other Words', 'IRL': 'In Real Life', 'KISS': 'Keep It Simple, Stupid', 'LDR': 'Long Distance Relationship', 'LMAO': 'Laughing my a** off', 'LOL': 'Laughing out loud', 'LTNS': 'Long Time No See', 'L8R': 'Later', 'MTE': 'My Thoughts Exactly', 'M8': 'Mate', 'NRN': 'No Reply Necessary', 'OIC': 'Oh I See', 'PITA': 'Pain In The A..', 'PRT': 'Party', 'PRW': 'Parents Are Watching', 'ROFL': 'Rolling On The Floor Laughing', 'ROFLOL': 'Rolling On The Floor Laughing Out Loud', 'ROTFLMAO': 'Rolling On The Floor Laughing My A.. Off', 'SK8': 'Skate', 'STATS': 'Your sex and age', 'ASL': 'Age, Sex, Location', 'THX': 'Thank You', 'TTFN': 'Ta-Ta For Now!', 'TTYL': 'Talk To You Later', 'U': 'You', 'U2': 'You Too', 'U4E': 'Yours For Ever', 'WB': 'Welcome Back', 'WTF': 'What The F...', 'WTG': 'Way To Go!', 'WUF': 'Where Are You From?', 'W8': 'Wait...', '7K': 'Sick:-D Laugher', 'TFW': 'That feeling when. TFW internet slang often goes in a caption to an image.', 'MFW': 'My face when', 'MRW': 'My reaction when', 'IFYP': 'I feel your pain', 'TNTL': 'Trying not to laugh', 'JK': 'Just kidding', 'IDC': 'I don’t care', 'ILY': 'I love you', 'IMU': 'I miss you', 'ADIH': 'Another day in hell', 'ZZZ': 'Sleeping, bored, tired', 'WYWH': 'Wish you were here', 'TIME': 'Tears in my eyes', 'BAE': 'Before anyone else', 'FIMH': 'Forever in my heart', 'BSAAW': 'Big smile and a wink', 'BWL': 'Bursting with laughter', 'BFF': 'Best friends forever', 'CSL': 'Can’t stop laughing'}\n"
     ]
    }
   ],
   "source": [
    "# Read the contents of the file\n",
    "file_path = '/kaggle/input/slang-word/slang.txt'\n",
    "with open(file_path, 'r') as file:\n",
    "    lines = file.readlines()\n",
    "\n",
    "# Initialize an empty dictionary\n",
    "slang_dict = {}\n",
    "\n",
    "# Iterate through each line to populate the dictionary\n",
    "for line in lines:\n",
    "    line = line.strip()  # Remove leading/trailing whitespace\n",
    "    if '=' in line:\n",
    "        # Split the line into key and value\n",
    "        key, value = line.split('=', 1)\n",
    "    elif ' – ' in line:\n",
    "        key, value = line.split(' – ', 1)\n",
    "    elif ': ' in line:\n",
    "        key, value = line.split(': ', 1)\n",
    "    else:\n",
    "        continue\n",
    "\n",
    "    # Add the key-value pair to the dictionary\n",
    "    slang_dict[key] = value\n",
    "\n",
    "# Print the resulting dictionary\n",
    "print(slang_dict)\n"
   ]
  },
  {
   "cell_type": "code",
   "execution_count": 17,
   "id": "945cc04b",
   "metadata": {
    "execution": {
     "iopub.execute_input": "2024-05-23T00:28:04.273808Z",
     "iopub.status.busy": "2024-05-23T00:28:04.273373Z",
     "iopub.status.idle": "2024-05-23T00:28:04.284476Z",
     "shell.execute_reply": "2024-05-23T00:28:04.283591Z"
    },
    "papermill": {
     "duration": 0.037897,
     "end_time": "2024-05-23T00:28:04.286857",
     "exception": false,
     "start_time": "2024-05-23T00:28:04.248960",
     "status": "completed"
    },
    "tags": []
   },
   "outputs": [
    {
     "data": {
      "text/plain": [
       "{'AFAIK': 'As Far As I Know',\n",
       " 'AFK': 'Away From Keyboard',\n",
       " 'ASAP': 'As Soon As Possible',\n",
       " 'ATK': 'At The Keyboard',\n",
       " 'ATM': 'At The Moment',\n",
       " 'A3': 'Anytime, Anywhere, Anyplace',\n",
       " 'BAK': 'Back At Keyboard',\n",
       " 'BBL': 'Be Back Later',\n",
       " 'BBS': 'Be Back Soon',\n",
       " 'BFN': 'Bye For Now',\n",
       " 'B4N': 'Bye For Now',\n",
       " 'BRB': 'Be Right Back',\n",
       " 'BRT': 'Be Right There',\n",
       " 'BTW': 'By The Way',\n",
       " 'B4': 'Before',\n",
       " 'CU': 'See You',\n",
       " 'CUL8R': 'See You Later',\n",
       " 'CYA': 'See You',\n",
       " 'FAQ': 'Frequently Asked Questions',\n",
       " 'FC': 'Fingers Crossed',\n",
       " 'FWIW': \"For What It's Worth\",\n",
       " 'FYI': 'For Your Information',\n",
       " 'GAL': 'Get A Life',\n",
       " 'GG': 'Good Game',\n",
       " 'GN': 'Good Night',\n",
       " 'GMTA': 'Great Minds Think Alike',\n",
       " 'GR8': 'Great!',\n",
       " 'G9': 'Genius',\n",
       " 'IC': 'I See',\n",
       " 'ICQ': 'I Seek you (also a chat program)',\n",
       " 'ILU': 'ILU: I Love You',\n",
       " 'IMHO': 'In My Honest/Humble Opinion',\n",
       " 'IMO': 'In My Opinion',\n",
       " 'IOW': 'In Other Words',\n",
       " 'IRL': 'In Real Life',\n",
       " 'KISS': 'Keep It Simple, Stupid',\n",
       " 'LDR': 'Long Distance Relationship',\n",
       " 'LMAO': 'Laughing my a** off',\n",
       " 'LOL': 'Laughing out loud',\n",
       " 'LTNS': 'Long Time No See',\n",
       " 'L8R': 'Later',\n",
       " 'MTE': 'My Thoughts Exactly',\n",
       " 'M8': 'Mate',\n",
       " 'NRN': 'No Reply Necessary',\n",
       " 'OIC': 'Oh I See',\n",
       " 'PITA': 'Pain In The A..',\n",
       " 'PRT': 'Party',\n",
       " 'PRW': 'Parents Are Watching',\n",
       " 'ROFL': 'Rolling On The Floor Laughing',\n",
       " 'ROFLOL': 'Rolling On The Floor Laughing Out Loud',\n",
       " 'ROTFLMAO': 'Rolling On The Floor Laughing My A.. Off',\n",
       " 'SK8': 'Skate',\n",
       " 'STATS': 'Your sex and age',\n",
       " 'ASL': 'Age, Sex, Location',\n",
       " 'THX': 'Thank You',\n",
       " 'TTFN': 'Ta-Ta For Now!',\n",
       " 'TTYL': 'Talk To You Later',\n",
       " 'U': 'You',\n",
       " 'U2': 'You Too',\n",
       " 'U4E': 'Yours For Ever',\n",
       " 'WB': 'Welcome Back',\n",
       " 'WTF': 'What The F...',\n",
       " 'WTG': 'Way To Go!',\n",
       " 'WUF': 'Where Are You From?',\n",
       " 'W8': 'Wait...',\n",
       " '7K': 'Sick:-D Laugher',\n",
       " 'TFW': 'That feeling when. TFW internet slang often goes in a caption to an image.',\n",
       " 'MFW': 'My face when',\n",
       " 'MRW': 'My reaction when',\n",
       " 'IFYP': 'I feel your pain',\n",
       " 'TNTL': 'Trying not to laugh',\n",
       " 'JK': 'Just kidding',\n",
       " 'IDC': 'I don’t care',\n",
       " 'ILY': 'I love you',\n",
       " 'IMU': 'I miss you',\n",
       " 'ADIH': 'Another day in hell',\n",
       " 'ZZZ': 'Sleeping, bored, tired',\n",
       " 'WYWH': 'Wish you were here',\n",
       " 'TIME': 'Tears in my eyes',\n",
       " 'BAE': 'Before anyone else',\n",
       " 'FIMH': 'Forever in my heart',\n",
       " 'BSAAW': 'Big smile and a wink',\n",
       " 'BWL': 'Bursting with laughter',\n",
       " 'BFF': 'Best friends forever',\n",
       " 'CSL': 'Can’t stop laughing'}"
      ]
     },
     "execution_count": 17,
     "metadata": {},
     "output_type": "execute_result"
    }
   ],
   "source": [
    "slang_dict"
   ]
  },
  {
   "cell_type": "markdown",
   "id": "d749e4f6",
   "metadata": {
    "papermill": {
     "duration": 0.021632,
     "end_time": "2024-05-23T00:28:04.331771",
     "exception": false,
     "start_time": "2024-05-23T00:28:04.310139",
     "status": "completed"
    },
    "tags": []
   },
   "source": [
    "# Remove punctuatoin"
   ]
  },
  {
   "cell_type": "code",
   "execution_count": 18,
   "id": "c4d340cd",
   "metadata": {
    "execution": {
     "iopub.execute_input": "2024-05-23T00:28:04.378717Z",
     "iopub.status.busy": "2024-05-23T00:28:04.377581Z",
     "iopub.status.idle": "2024-05-23T00:28:04.384010Z",
     "shell.execute_reply": "2024-05-23T00:28:04.382839Z"
    },
    "papermill": {
     "duration": 0.033203,
     "end_time": "2024-05-23T00:28:04.386821",
     "exception": false,
     "start_time": "2024-05-23T00:28:04.353618",
     "status": "completed"
    },
    "tags": []
   },
   "outputs": [],
   "source": [
    "def chat_conversion(text):\n",
    "    new_text = []\n",
    "    for w in text.split():\n",
    "        if w.upper() in slang_dict:\n",
    "            new_text.append(slang_dict[w.upper()])\n",
    "        else:\n",
    "            new_text.append(w)\n",
    "    return \" \".join(new_text)\n",
    "        "
   ]
  },
  {
   "cell_type": "code",
   "execution_count": 19,
   "id": "b757b733",
   "metadata": {
    "execution": {
     "iopub.execute_input": "2024-05-23T00:28:04.433492Z",
     "iopub.status.busy": "2024-05-23T00:28:04.433027Z",
     "iopub.status.idle": "2024-05-23T00:28:04.439582Z",
     "shell.execute_reply": "2024-05-23T00:28:04.438754Z"
    },
    "papermill": {
     "duration": 0.032676,
     "end_time": "2024-05-23T00:28:04.441657",
     "exception": false,
     "start_time": "2024-05-23T00:28:04.408981",
     "status": "completed"
    },
    "tags": []
   },
   "outputs": [
    {
     "data": {
      "text/plain": [
       "'For Your Information he is the best'"
      ]
     },
     "execution_count": 19,
     "metadata": {},
     "output_type": "execute_result"
    }
   ],
   "source": [
    "chat_conversion('fyi he is the best')"
   ]
  },
  {
   "cell_type": "markdown",
   "id": "20e38a3c",
   "metadata": {
    "papermill": {
     "duration": 0.021792,
     "end_time": "2024-05-23T00:28:04.486337",
     "exception": false,
     "start_time": "2024-05-23T00:28:04.464545",
     "status": "completed"
    },
    "tags": []
   },
   "source": [
    "# Spell correction\n",
    "        **libraries like nltk, spicy, toolbox use for spell correction**\n",
    "        "
   ]
  },
  {
   "cell_type": "code",
   "execution_count": 20,
   "id": "40d5fde5",
   "metadata": {
    "execution": {
     "iopub.execute_input": "2024-05-23T00:28:04.538337Z",
     "iopub.status.busy": "2024-05-23T00:28:04.536474Z",
     "iopub.status.idle": "2024-05-23T00:28:06.952286Z",
     "shell.execute_reply": "2024-05-23T00:28:06.950963Z"
    },
    "papermill": {
     "duration": 2.445971,
     "end_time": "2024-05-23T00:28:06.955466",
     "exception": false,
     "start_time": "2024-05-23T00:28:04.509495",
     "status": "completed"
    },
    "tags": []
   },
   "outputs": [],
   "source": [
    "from textblob import TextBlob"
   ]
  },
  {
   "cell_type": "code",
   "execution_count": 21,
   "id": "e12e4901",
   "metadata": {
    "execution": {
     "iopub.execute_input": "2024-05-23T00:28:07.002310Z",
     "iopub.status.busy": "2024-05-23T00:28:07.001918Z",
     "iopub.status.idle": "2024-05-23T00:28:07.102334Z",
     "shell.execute_reply": "2024-05-23T00:28:07.101111Z"
    },
    "papermill": {
     "duration": 0.126505,
     "end_time": "2024-05-23T00:28:07.104868",
     "exception": false,
     "start_time": "2024-05-23T00:28:06.978363",
     "status": "completed"
    },
    "tags": []
   },
   "outputs": [
    {
     "data": {
      "text/plain": [
       "'certain conditions during several generations are modified in the same manner.'"
      ]
     },
     "execution_count": 21,
     "metadata": {},
     "output_type": "execute_result"
    }
   ],
   "source": [
    "incorrect_text = 'ceertain conditionas duriing seveal ggenerations aree moodified in the saame maner.'\n",
    "textBlb = TextBlob (incorrect_text)\n",
    "textBlb.correct().string"
   ]
  },
  {
   "cell_type": "markdown",
   "id": "f28720f6",
   "metadata": {
    "papermill": {
     "duration": 0.0219,
     "end_time": "2024-05-23T00:28:07.148871",
     "exception": false,
     "start_time": "2024-05-23T00:28:07.126971",
     "status": "completed"
    },
    "tags": []
   },
   "source": [
    "# Stopper removal\n",
    "        (we didn't remove stopper in part of speech tagging)"
   ]
  },
  {
   "cell_type": "code",
   "execution_count": 22,
   "id": "24649c6b",
   "metadata": {
    "execution": {
     "iopub.execute_input": "2024-05-23T00:28:07.195213Z",
     "iopub.status.busy": "2024-05-23T00:28:07.194567Z",
     "iopub.status.idle": "2024-05-23T00:28:07.199567Z",
     "shell.execute_reply": "2024-05-23T00:28:07.198612Z"
    },
    "papermill": {
     "duration": 0.031244,
     "end_time": "2024-05-23T00:28:07.202049",
     "exception": false,
     "start_time": "2024-05-23T00:28:07.170805",
     "status": "completed"
    },
    "tags": []
   },
   "outputs": [],
   "source": [
    "from nltk.corpus import stopwords"
   ]
  },
  {
   "cell_type": "code",
   "execution_count": 23,
   "id": "f82cbe91",
   "metadata": {
    "execution": {
     "iopub.execute_input": "2024-05-23T00:28:07.248189Z",
     "iopub.status.busy": "2024-05-23T00:28:07.247529Z",
     "iopub.status.idle": "2024-05-23T00:28:07.266030Z",
     "shell.execute_reply": "2024-05-23T00:28:07.264566Z"
    },
    "papermill": {
     "duration": 0.044722,
     "end_time": "2024-05-23T00:28:07.268735",
     "exception": false,
     "start_time": "2024-05-23T00:28:07.224013",
     "status": "completed"
    },
    "tags": []
   },
   "outputs": [
    {
     "data": {
      "text/plain": [
       "['i',\n",
       " 'me',\n",
       " 'my',\n",
       " 'myself',\n",
       " 'we',\n",
       " 'our',\n",
       " 'ours',\n",
       " 'ourselves',\n",
       " 'you',\n",
       " \"you're\",\n",
       " \"you've\",\n",
       " \"you'll\",\n",
       " \"you'd\",\n",
       " 'your',\n",
       " 'yours',\n",
       " 'yourself',\n",
       " 'yourselves',\n",
       " 'he',\n",
       " 'him',\n",
       " 'his',\n",
       " 'himself',\n",
       " 'she',\n",
       " \"she's\",\n",
       " 'her',\n",
       " 'hers',\n",
       " 'herself',\n",
       " 'it',\n",
       " \"it's\",\n",
       " 'its',\n",
       " 'itself',\n",
       " 'they',\n",
       " 'them',\n",
       " 'their',\n",
       " 'theirs',\n",
       " 'themselves',\n",
       " 'what',\n",
       " 'which',\n",
       " 'who',\n",
       " 'whom',\n",
       " 'this',\n",
       " 'that',\n",
       " \"that'll\",\n",
       " 'these',\n",
       " 'those',\n",
       " 'am',\n",
       " 'is',\n",
       " 'are',\n",
       " 'was',\n",
       " 'were',\n",
       " 'be',\n",
       " 'been',\n",
       " 'being',\n",
       " 'have',\n",
       " 'has',\n",
       " 'had',\n",
       " 'having',\n",
       " 'do',\n",
       " 'does',\n",
       " 'did',\n",
       " 'doing',\n",
       " 'a',\n",
       " 'an',\n",
       " 'the',\n",
       " 'and',\n",
       " 'but',\n",
       " 'if',\n",
       " 'or',\n",
       " 'because',\n",
       " 'as',\n",
       " 'until',\n",
       " 'while',\n",
       " 'of',\n",
       " 'at',\n",
       " 'by',\n",
       " 'for',\n",
       " 'with',\n",
       " 'about',\n",
       " 'against',\n",
       " 'between',\n",
       " 'into',\n",
       " 'through',\n",
       " 'during',\n",
       " 'before',\n",
       " 'after',\n",
       " 'above',\n",
       " 'below',\n",
       " 'to',\n",
       " 'from',\n",
       " 'up',\n",
       " 'down',\n",
       " 'in',\n",
       " 'out',\n",
       " 'on',\n",
       " 'off',\n",
       " 'over',\n",
       " 'under',\n",
       " 'again',\n",
       " 'further',\n",
       " 'then',\n",
       " 'once',\n",
       " 'here',\n",
       " 'there',\n",
       " 'when',\n",
       " 'where',\n",
       " 'why',\n",
       " 'how',\n",
       " 'all',\n",
       " 'any',\n",
       " 'both',\n",
       " 'each',\n",
       " 'few',\n",
       " 'more',\n",
       " 'most',\n",
       " 'other',\n",
       " 'some',\n",
       " 'such',\n",
       " 'no',\n",
       " 'nor',\n",
       " 'not',\n",
       " 'only',\n",
       " 'own',\n",
       " 'same',\n",
       " 'so',\n",
       " 'than',\n",
       " 'too',\n",
       " 'very',\n",
       " 's',\n",
       " 't',\n",
       " 'can',\n",
       " 'will',\n",
       " 'just',\n",
       " 'don',\n",
       " \"don't\",\n",
       " 'should',\n",
       " \"should've\",\n",
       " 'now',\n",
       " 'd',\n",
       " 'll',\n",
       " 'm',\n",
       " 'o',\n",
       " 're',\n",
       " 've',\n",
       " 'y',\n",
       " 'ain',\n",
       " 'aren',\n",
       " \"aren't\",\n",
       " 'couldn',\n",
       " \"couldn't\",\n",
       " 'didn',\n",
       " \"didn't\",\n",
       " 'doesn',\n",
       " \"doesn't\",\n",
       " 'hadn',\n",
       " \"hadn't\",\n",
       " 'hasn',\n",
       " \"hasn't\",\n",
       " 'haven',\n",
       " \"haven't\",\n",
       " 'isn',\n",
       " \"isn't\",\n",
       " 'ma',\n",
       " 'mightn',\n",
       " \"mightn't\",\n",
       " 'mustn',\n",
       " \"mustn't\",\n",
       " 'needn',\n",
       " \"needn't\",\n",
       " 'shan',\n",
       " \"shan't\",\n",
       " 'shouldn',\n",
       " \"shouldn't\",\n",
       " 'wasn',\n",
       " \"wasn't\",\n",
       " 'weren',\n",
       " \"weren't\",\n",
       " 'won',\n",
       " \"won't\",\n",
       " 'wouldn',\n",
       " \"wouldn't\"]"
      ]
     },
     "execution_count": 23,
     "metadata": {},
     "output_type": "execute_result"
    }
   ],
   "source": [
    "stopwords.words('english')"
   ]
  },
  {
   "cell_type": "code",
   "execution_count": 24,
   "id": "db820a3c",
   "metadata": {
    "execution": {
     "iopub.execute_input": "2024-05-23T00:28:07.316070Z",
     "iopub.status.busy": "2024-05-23T00:28:07.315684Z",
     "iopub.status.idle": "2024-05-23T00:28:07.321997Z",
     "shell.execute_reply": "2024-05-23T00:28:07.321027Z"
    },
    "papermill": {
     "duration": 0.033261,
     "end_time": "2024-05-23T00:28:07.324425",
     "exception": false,
     "start_time": "2024-05-23T00:28:07.291164",
     "status": "completed"
    },
    "tags": []
   },
   "outputs": [],
   "source": [
    "def remove_stopwords(text):\n",
    "    new_text = []\n",
    "    \n",
    "    for word in text.split():\n",
    "        if word in stopwords.words('english'):\n",
    "            new_text.append('')\n",
    "        else:\n",
    "            new_text.append(word)\n",
    "    x = new_text[:]\n",
    "    new_text.clear()\n",
    "    return \" \".join(x)"
   ]
  },
  {
   "cell_type": "code",
   "execution_count": 25,
   "id": "a9587f21",
   "metadata": {
    "execution": {
     "iopub.execute_input": "2024-05-23T00:28:07.373038Z",
     "iopub.status.busy": "2024-05-23T00:28:07.371822Z",
     "iopub.status.idle": "2024-05-23T00:28:07.389248Z",
     "shell.execute_reply": "2024-05-23T00:28:07.387908Z"
    },
    "papermill": {
     "duration": 0.044817,
     "end_time": "2024-05-23T00:28:07.391859",
     "exception": false,
     "start_time": "2024-05-23T00:28:07.347042",
     "status": "completed"
    },
    "tags": []
   },
   "outputs": [
    {
     "data": {
      "text/plain": [
       "'Stop words  removed  improve  accuracy  efficiency  language processing tasks. By removing stop words, algorithms  better understand  context  meaning   text  focusing   significant terms. In information retrieval systems, stop lists collect uninformative words  discard  indexing. This helps  system weigh  relevancy  content   topic searched.'"
      ]
     },
     "execution_count": 25,
     "metadata": {},
     "output_type": "execute_result"
    }
   ],
   "source": [
    "remove_stopwords('''Stop words are removed to improve the accuracy and efficiency of language processing tasks. By removing stop words, algorithms can better understand the context and meaning of a text by focusing on more significant terms. In information retrieval systems, stop lists collect uninformative words to discard during indexing. This helps the system weigh the relevancy of content to the topic searched. \n",
    "''')"
   ]
  },
  {
   "cell_type": "code",
   "execution_count": 26,
   "id": "665ea97e",
   "metadata": {
    "execution": {
     "iopub.execute_input": "2024-05-23T00:28:07.440896Z",
     "iopub.status.busy": "2024-05-23T00:28:07.440026Z",
     "iopub.status.idle": "2024-05-23T00:28:07.450709Z",
     "shell.execute_reply": "2024-05-23T00:28:07.449582Z"
    },
    "papermill": {
     "duration": 0.038207,
     "end_time": "2024-05-23T00:28:07.453192",
     "exception": false,
     "start_time": "2024-05-23T00:28:07.414985",
     "status": "completed"
    },
    "tags": []
   },
   "outputs": [
    {
     "data": {
      "text/html": [
       "<div>\n",
       "<style scoped>\n",
       "    .dataframe tbody tr th:only-of-type {\n",
       "        vertical-align: middle;\n",
       "    }\n",
       "\n",
       "    .dataframe tbody tr th {\n",
       "        vertical-align: top;\n",
       "    }\n",
       "\n",
       "    .dataframe thead th {\n",
       "        text-align: right;\n",
       "    }\n",
       "</style>\n",
       "<table border=\"1\" class=\"dataframe\">\n",
       "  <thead>\n",
       "    <tr style=\"text-align: right;\">\n",
       "      <th></th>\n",
       "      <th>review</th>\n",
       "      <th>sentiment</th>\n",
       "    </tr>\n",
       "  </thead>\n",
       "  <tbody>\n",
       "    <tr>\n",
       "      <th>0</th>\n",
       "      <td>one of the other reviewers has mentioned that ...</td>\n",
       "      <td>positive</td>\n",
       "    </tr>\n",
       "    <tr>\n",
       "      <th>1</th>\n",
       "      <td>a wonderful little production. &lt;br /&gt;&lt;br /&gt;the...</td>\n",
       "      <td>positive</td>\n",
       "    </tr>\n",
       "    <tr>\n",
       "      <th>2</th>\n",
       "      <td>i thought this was a wonderful way to spend ti...</td>\n",
       "      <td>positive</td>\n",
       "    </tr>\n",
       "    <tr>\n",
       "      <th>3</th>\n",
       "      <td>basically there's a family where a little boy ...</td>\n",
       "      <td>negative</td>\n",
       "    </tr>\n",
       "    <tr>\n",
       "      <th>4</th>\n",
       "      <td>petter mattei's \"love in the time of money\" is...</td>\n",
       "      <td>positive</td>\n",
       "    </tr>\n",
       "  </tbody>\n",
       "</table>\n",
       "</div>"
      ],
      "text/plain": [
       "                                              review sentiment\n",
       "0  one of the other reviewers has mentioned that ...  positive\n",
       "1  a wonderful little production. <br /><br />the...  positive\n",
       "2  i thought this was a wonderful way to spend ti...  positive\n",
       "3  basically there's a family where a little boy ...  negative\n",
       "4  petter mattei's \"love in the time of money\" is...  positive"
      ]
     },
     "execution_count": 26,
     "metadata": {},
     "output_type": "execute_result"
    }
   ],
   "source": [
    "df.head()"
   ]
  },
  {
   "cell_type": "code",
   "execution_count": null,
   "id": "a7c49f9a",
   "metadata": {
    "execution": {
     "iopub.execute_input": "2024-05-21T15:41:56.011204Z",
     "iopub.status.busy": "2024-05-21T15:41:56.010168Z",
     "iopub.status.idle": "2024-05-21T16:07:36.230801Z",
     "shell.execute_reply": "2024-05-21T16:07:36.229760Z",
     "shell.execute_reply.started": "2024-05-21T15:41:56.011167Z"
    },
    "papermill": {
     "duration": null,
     "end_time": null,
     "exception": false,
     "start_time": "2024-05-23T00:28:07.475857",
     "status": "running"
    },
    "tags": []
   },
   "outputs": [],
   "source": [
    "df['review'].apply(remove_stopwords)"
   ]
  },
  {
   "cell_type": "markdown",
   "id": "a5390320",
   "metadata": {
    "papermill": {
     "duration": null,
     "end_time": null,
     "exception": null,
     "start_time": null,
     "status": "pending"
    },
    "tags": []
   },
   "source": [
    "# Remove emoji"
   ]
  },
  {
   "cell_type": "code",
   "execution_count": null,
   "id": "c74a1318",
   "metadata": {
    "execution": {
     "iopub.execute_input": "2024-05-22T05:49:34.554471Z",
     "iopub.status.busy": "2024-05-22T05:49:34.553597Z",
     "iopub.status.idle": "2024-05-22T05:49:34.560441Z",
     "shell.execute_reply": "2024-05-22T05:49:34.559233Z",
     "shell.execute_reply.started": "2024-05-22T05:49:34.554432Z"
    },
    "papermill": {
     "duration": null,
     "end_time": null,
     "exception": null,
     "start_time": null,
     "status": "pending"
    },
    "tags": []
   },
   "outputs": [],
   "source": [
    "import re\n",
    "def remove_emoji(text):\n",
    "    emoji_pattern = re.compile(\"[\"\n",
    "        u\"\\U0001F600-\\U0001F64F\" # emoticons\n",
    "        u\"\\U0001F300-\\U0001F5FF\" # symbols & pictographs\n",
    "        u\"\\U0001F680-\\U0001F6FF\" # transport & map symbols\n",
    "        u\"\\U0001F1E0-\\U0001F1FF\" # flags (10S)\n",
    "        u\"\\U00002702-\\U000027B0\"\n",
    "        u\"\\U00002402-\\U0001F251\"\n",
    "        \"]+\", flags=re.UNICODE)\n",
    "    return emoji_pattern.sub(r'', text)"
   ]
  },
  {
   "cell_type": "code",
   "execution_count": null,
   "id": "d443142c",
   "metadata": {
    "execution": {
     "iopub.execute_input": "2024-05-22T05:49:39.319006Z",
     "iopub.status.busy": "2024-05-22T05:49:39.318553Z",
     "iopub.status.idle": "2024-05-22T05:49:39.327308Z",
     "shell.execute_reply": "2024-05-22T05:49:39.326019Z",
     "shell.execute_reply.started": "2024-05-22T05:49:39.318969Z"
    },
    "papermill": {
     "duration": null,
     "end_time": null,
     "exception": null,
     "start_time": null,
     "status": "pending"
    },
    "tags": []
   },
   "outputs": [],
   "source": [
    "remove_emoji(\"Loved the movie. It was ☺☺☺☺\")"
   ]
  },
  {
   "cell_type": "code",
   "execution_count": null,
   "id": "4448b9ee",
   "metadata": {
    "execution": {
     "iopub.execute_input": "2024-05-22T05:51:29.769164Z",
     "iopub.status.busy": "2024-05-22T05:51:29.768771Z",
     "iopub.status.idle": "2024-05-22T05:51:29.842258Z",
     "shell.execute_reply": "2024-05-22T05:51:29.841225Z",
     "shell.execute_reply.started": "2024-05-22T05:51:29.769135Z"
    },
    "papermill": {
     "duration": null,
     "end_time": null,
     "exception": null,
     "start_time": null,
     "status": "pending"
    },
    "tags": []
   },
   "outputs": [],
   "source": [
    "import emoji\n",
    "print(emoji.demojize('What does 🥰🥰🥰 mean?'))"
   ]
  },
  {
   "cell_type": "markdown",
   "id": "44871f5e",
   "metadata": {
    "papermill": {
     "duration": null,
     "end_time": null,
     "exception": null,
     "start_time": null,
     "status": "pending"
    },
    "tags": []
   },
   "source": [
    "# Tokenization : \n",
    "    Tokenization in natural language processing (NLP) is a technique that involves dividing a sentence or phrase into smaller units known as tokens.  \n",
    "    Tokenization is done in two way:\n",
    "    1. word tokenzition\n",
    "    2. sentence tokenization\n",
    "    \n",
    "**cause of problem while tokenization.**\n",
    "\n",
    "**Prefix**: Character(s) at the beginning\n",
    "\n",
    "**Suffix**: Character(s) at the end\n",
    "\n",
    "**Infix**: Character(s) in between \n",
    "\n",
    "**Exception**:{ $(\"¿ km),.!\" ---/... let's U.S.  } \n",
    "Special-case rule to \n",
    "split a string into several tokens وو\n",
    "or prevent a token from being split\n",
    "when punctuation rules are applied\n",
    "    \n",
    "    "
   ]
  },
  {
   "cell_type": "markdown",
   "id": "5e655f18",
   "metadata": {
    "papermill": {
     "duration": null,
     "end_time": null,
     "exception": null,
     "start_time": null,
     "status": "pending"
    },
    "tags": []
   },
   "source": [
    "**1. using the split function**"
   ]
  },
  {
   "cell_type": "code",
   "execution_count": null,
   "id": "8c8436b9",
   "metadata": {
    "execution": {
     "iopub.execute_input": "2024-05-22T06:21:24.208111Z",
     "iopub.status.busy": "2024-05-22T06:21:24.207251Z",
     "iopub.status.idle": "2024-05-22T06:21:24.215036Z",
     "shell.execute_reply": "2024-05-22T06:21:24.213733Z",
     "shell.execute_reply.started": "2024-05-22T06:21:24.208068Z"
    },
    "papermill": {
     "duration": null,
     "end_time": null,
     "exception": null,
     "start_time": null,
     "status": "pending"
    },
    "tags": []
   },
   "outputs": [],
   "source": [
    "# word tokenization\n",
    "sent1 ='I am going to delhi'\n",
    "sent1.split()"
   ]
  },
  {
   "cell_type": "code",
   "execution_count": null,
   "id": "d96b1220",
   "metadata": {
    "execution": {
     "iopub.execute_input": "2024-05-22T06:22:26.559103Z",
     "iopub.status.busy": "2024-05-22T06:22:26.558651Z",
     "iopub.status.idle": "2024-05-22T06:22:26.567051Z",
     "shell.execute_reply": "2024-05-22T06:22:26.565883Z",
     "shell.execute_reply.started": "2024-05-22T06:22:26.559066Z"
    },
    "papermill": {
     "duration": null,
     "end_time": null,
     "exception": null,
     "start_time": null,
     "status": "pending"
    },
    "tags": []
   },
   "outputs": [],
   "source": [
    "# sentence tokenization\n",
    "sent2 ='I am going to delhi. I will stay there for 3 days. Let\\'s hope the trip to be great'\n",
    "sent2.split('.')"
   ]
  },
  {
   "cell_type": "code",
   "execution_count": null,
   "id": "07790827",
   "metadata": {
    "execution": {
     "iopub.execute_input": "2024-05-22T06:23:11.949480Z",
     "iopub.status.busy": "2024-05-22T06:23:11.948493Z",
     "iopub.status.idle": "2024-05-22T06:23:11.956221Z",
     "shell.execute_reply": "2024-05-22T06:23:11.955086Z",
     "shell.execute_reply.started": "2024-05-22T06:23:11.949444Z"
    },
    "papermill": {
     "duration": null,
     "end_time": null,
     "exception": null,
     "start_time": null,
     "status": "pending"
    },
    "tags": []
   },
   "outputs": [],
   "source": [
    "# Problems with split function\n",
    "sent3 ='I am going to delhi!'\n",
    "sent3.split()"
   ]
  },
  {
   "cell_type": "code",
   "execution_count": null,
   "id": "72a5b51e",
   "metadata": {
    "execution": {
     "iopub.execute_input": "2024-05-22T06:25:41.353699Z",
     "iopub.status.busy": "2024-05-22T06:25:41.353282Z",
     "iopub.status.idle": "2024-05-22T06:25:41.361773Z",
     "shell.execute_reply": "2024-05-22T06:25:41.360617Z",
     "shell.execute_reply.started": "2024-05-22T06:25:41.353652Z"
    },
    "papermill": {
     "duration": null,
     "end_time": null,
     "exception": null,
     "start_time": null,
     "status": "pending"
    },
    "tags": []
   },
   "outputs": [],
   "source": [
    "sent4 = 'where do think I should go? I have 3 day holiday'\n",
    "sent4.split('.')"
   ]
  },
  {
   "cell_type": "markdown",
   "id": "c0fd365c",
   "metadata": {
    "papermill": {
     "duration": null,
     "end_time": null,
     "exception": null,
     "start_time": null,
     "status": "pending"
    },
    "tags": []
   },
   "source": [
    "**2. Using Regular expression**\n"
   ]
  },
  {
   "cell_type": "code",
   "execution_count": null,
   "id": "faca4c86",
   "metadata": {
    "execution": {
     "iopub.execute_input": "2024-05-22T06:29:05.854964Z",
     "iopub.status.busy": "2024-05-22T06:29:05.854549Z",
     "iopub.status.idle": "2024-05-22T06:29:05.863163Z",
     "shell.execute_reply": "2024-05-22T06:29:05.861979Z",
     "shell.execute_reply.started": "2024-05-22T06:29:05.854934Z"
    },
    "papermill": {
     "duration": null,
     "end_time": null,
     "exception": null,
     "start_time": null,
     "status": "pending"
    },
    "tags": []
   },
   "outputs": [],
   "source": [
    "import re\n",
    "sent3 ='I am going to delhi!'\n",
    "tokens = re.findall(\"[\\w']+\", sent3)\n",
    "tokens"
   ]
  },
  {
   "cell_type": "code",
   "execution_count": null,
   "id": "ea1696ac",
   "metadata": {
    "execution": {
     "iopub.execute_input": "2024-05-22T06:29:13.043814Z",
     "iopub.status.busy": "2024-05-22T06:29:13.043330Z",
     "iopub.status.idle": "2024-05-22T06:29:13.052553Z",
     "shell.execute_reply": "2024-05-22T06:29:13.051344Z",
     "shell.execute_reply.started": "2024-05-22T06:29:13.043779Z"
    },
    "papermill": {
     "duration": null,
     "end_time": null,
     "exception": null,
     "start_time": null,
     "status": "pending"
    },
    "tags": []
   },
   "outputs": [],
   "source": [
    "text = \"\"\"Lorem Ipsum is simply dummy text of the printing and typesetting industry?\n",
    "Lorem Ipsum has been the industry's standard dummy text ever since the 1500s,\n",
    "when an unknown printer took a galley of type and scrambled it to make a type specimen book.\"\"\"\n",
    "sentences = re.compile('[.]').split(text)\n",
    "sentences"
   ]
  },
  {
   "cell_type": "markdown",
   "id": "8a483a7b",
   "metadata": {
    "papermill": {
     "duration": null,
     "end_time": null,
     "exception": null,
     "start_time": null,
     "status": "pending"
    },
    "tags": []
   },
   "source": [
    "**3. Using NLTK library**\n",
    "\n",
    "        (Limitation: sometime it fail in email id it break email into small chunks)"
   ]
  },
  {
   "cell_type": "code",
   "execution_count": null,
   "id": "b95b28ba",
   "metadata": {
    "execution": {
     "iopub.execute_input": "2024-05-22T06:38:11.422735Z",
     "iopub.status.busy": "2024-05-22T06:38:11.422304Z",
     "iopub.status.idle": "2024-05-22T06:38:11.428450Z",
     "shell.execute_reply": "2024-05-22T06:38:11.427208Z",
     "shell.execute_reply.started": "2024-05-22T06:38:11.422701Z"
    },
    "papermill": {
     "duration": null,
     "end_time": null,
     "exception": null,
     "start_time": null,
     "status": "pending"
    },
    "tags": []
   },
   "outputs": [],
   "source": [
    "from nltk.tokenize import word_tokenize, sent_tokenize"
   ]
  },
  {
   "cell_type": "code",
   "execution_count": null,
   "id": "d103d142",
   "metadata": {
    "execution": {
     "iopub.execute_input": "2024-05-22T06:33:43.338462Z",
     "iopub.status.busy": "2024-05-22T06:33:43.338033Z",
     "iopub.status.idle": "2024-05-22T06:33:43.368413Z",
     "shell.execute_reply": "2024-05-22T06:33:43.367179Z",
     "shell.execute_reply.started": "2024-05-22T06:33:43.338428Z"
    },
    "papermill": {
     "duration": null,
     "end_time": null,
     "exception": null,
     "start_time": null,
     "status": "pending"
    },
    "tags": []
   },
   "outputs": [],
   "source": [
    "sent1='I am going to visit delhi!'\n",
    "word_tokenize (sent1)"
   ]
  },
  {
   "cell_type": "code",
   "execution_count": null,
   "id": "46d5eba9",
   "metadata": {
    "execution": {
     "iopub.execute_input": "2024-05-22T06:35:28.426326Z",
     "iopub.status.busy": "2024-05-22T06:35:28.425904Z",
     "iopub.status.idle": "2024-05-22T06:35:28.436847Z",
     "shell.execute_reply": "2024-05-22T06:35:28.435623Z",
     "shell.execute_reply.started": "2024-05-22T06:35:28.426296Z"
    },
    "papermill": {
     "duration": null,
     "end_time": null,
     "exception": null,
     "start_time": null,
     "status": "pending"
    },
    "tags": []
   },
   "outputs": [],
   "source": [
    "text = \"\"\"Lorem Ipsum is simply dummy text of the printing and typesetting industry?\n",
    "Lorem Ipsum has been the industry's standard dummy text ever since the 1500s,\n",
    "when an unknown printer took a galley of type and scrambled it to make a type specimen book.\"\"\"\n",
    "sent_tokenize (text)"
   ]
  },
  {
   "cell_type": "code",
   "execution_count": null,
   "id": "1b3c059a",
   "metadata": {
    "execution": {
     "iopub.execute_input": "2024-05-22T06:38:56.077630Z",
     "iopub.status.busy": "2024-05-22T06:38:56.077271Z",
     "iopub.status.idle": "2024-05-22T06:38:56.082862Z",
     "shell.execute_reply": "2024-05-22T06:38:56.081779Z",
     "shell.execute_reply.started": "2024-05-22T06:38:56.077603Z"
    },
    "papermill": {
     "duration": null,
     "end_time": null,
     "exception": null,
     "start_time": null,
     "status": "pending"
    },
    "tags": []
   },
   "outputs": [],
   "source": [
    "sent5 = 'I have a Ph.D in A.I'\n",
    "sent6 = \"We're here to help! mail us at nks@gmail.com\"\n",
    "sent7 = 'A 5km ride cost $10.50'"
   ]
  },
  {
   "cell_type": "code",
   "execution_count": null,
   "id": "303de182",
   "metadata": {
    "execution": {
     "iopub.execute_input": "2024-05-22T06:39:01.442329Z",
     "iopub.status.busy": "2024-05-22T06:39:01.441914Z",
     "iopub.status.idle": "2024-05-22T06:39:01.449956Z",
     "shell.execute_reply": "2024-05-22T06:39:01.448849Z",
     "shell.execute_reply.started": "2024-05-22T06:39:01.442296Z"
    },
    "papermill": {
     "duration": null,
     "end_time": null,
     "exception": null,
     "start_time": null,
     "status": "pending"
    },
    "tags": []
   },
   "outputs": [],
   "source": [
    "word_tokenize(sent5)\n"
   ]
  },
  {
   "cell_type": "code",
   "execution_count": null,
   "id": "f7ac0995",
   "metadata": {
    "execution": {
     "iopub.execute_input": "2024-05-22T06:39:28.757437Z",
     "iopub.status.busy": "2024-05-22T06:39:28.756853Z",
     "iopub.status.idle": "2024-05-22T06:39:28.766286Z",
     "shell.execute_reply": "2024-05-22T06:39:28.765039Z",
     "shell.execute_reply.started": "2024-05-22T06:39:28.757393Z"
    },
    "papermill": {
     "duration": null,
     "end_time": null,
     "exception": null,
     "start_time": null,
     "status": "pending"
    },
    "tags": []
   },
   "outputs": [],
   "source": [
    "word_tokenize(sent6)"
   ]
  },
  {
   "cell_type": "code",
   "execution_count": null,
   "id": "7e7cdabd",
   "metadata": {
    "execution": {
     "iopub.execute_input": "2024-05-22T06:41:07.550276Z",
     "iopub.status.busy": "2024-05-22T06:41:07.549709Z",
     "iopub.status.idle": "2024-05-22T06:41:07.558806Z",
     "shell.execute_reply": "2024-05-22T06:41:07.557281Z",
     "shell.execute_reply.started": "2024-05-22T06:41:07.550229Z"
    },
    "papermill": {
     "duration": null,
     "end_time": null,
     "exception": null,
     "start_time": null,
     "status": "pending"
    },
    "tags": []
   },
   "outputs": [],
   "source": [
    "word_tokenize(sent7)"
   ]
  },
  {
   "cell_type": "markdown",
   "id": "08367551",
   "metadata": {
    "papermill": {
     "duration": null,
     "end_time": null,
     "exception": null,
     "start_time": null,
     "status": "pending"
    },
    "tags": []
   },
   "source": [
    "**4. Using spacy library** (By observation this library is best)\n",
    "\n",
    "        (Limitation: sometime it fail in dot word e.g Ph.d)"
   ]
  },
  {
   "cell_type": "code",
   "execution_count": null,
   "id": "ca027e8f",
   "metadata": {
    "execution": {
     "iopub.execute_input": "2024-05-22T06:43:14.094008Z",
     "iopub.status.busy": "2024-05-22T06:43:14.092919Z",
     "iopub.status.idle": "2024-05-22T06:43:15.357346Z",
     "shell.execute_reply": "2024-05-22T06:43:15.356076Z",
     "shell.execute_reply.started": "2024-05-22T06:43:14.093966Z"
    },
    "papermill": {
     "duration": null,
     "end_time": null,
     "exception": null,
     "start_time": null,
     "status": "pending"
    },
    "tags": []
   },
   "outputs": [],
   "source": [
    "import spacy\n",
    "nlp = spacy.load('en_core_web_sm')"
   ]
  },
  {
   "cell_type": "code",
   "execution_count": null,
   "id": "ec038ede",
   "metadata": {
    "execution": {
     "iopub.execute_input": "2024-05-22T06:45:41.272884Z",
     "iopub.status.busy": "2024-05-22T06:45:41.272344Z",
     "iopub.status.idle": "2024-05-22T06:45:41.317950Z",
     "shell.execute_reply": "2024-05-22T06:45:41.316919Z",
     "shell.execute_reply.started": "2024-05-22T06:45:41.272847Z"
    },
    "papermill": {
     "duration": null,
     "end_time": null,
     "exception": null,
     "start_time": null,
     "status": "pending"
    },
    "tags": []
   },
   "outputs": [],
   "source": [
    "doc1 = nlp(sent5)\n",
    "doc2 = nlp(sent6)\n",
    "doc3 = nlp(sent7)\n",
    "doc4 = nlp(sent1)"
   ]
  },
  {
   "cell_type": "code",
   "execution_count": null,
   "id": "96399997",
   "metadata": {
    "execution": {
     "iopub.execute_input": "2024-05-22T06:45:59.172876Z",
     "iopub.status.busy": "2024-05-22T06:45:59.172443Z",
     "iopub.status.idle": "2024-05-22T06:45:59.178732Z",
     "shell.execute_reply": "2024-05-22T06:45:59.177398Z",
     "shell.execute_reply.started": "2024-05-22T06:45:59.172841Z"
    },
    "papermill": {
     "duration": null,
     "end_time": null,
     "exception": null,
     "start_time": null,
     "status": "pending"
    },
    "tags": []
   },
   "outputs": [],
   "source": [
    "for token in doc2:\n",
    "    print(token)"
   ]
  },
  {
   "cell_type": "markdown",
   "id": "a380e71b",
   "metadata": {
    "papermill": {
     "duration": null,
     "end_time": null,
     "exception": null,
     "start_time": null,
     "status": "pending"
    },
    "tags": []
   },
   "source": [
    "# Stemming\n",
    "\n",
    "     Inflection : In grammar, inflection is the modification of a word to express different grammatical categories such as tense, case, voice, aspect, person, number, gender, and mood.\n",
    "\n",
    "    Stemming is the process of reducing inflection in words to their root forms such as mapping a group of words to the same stem even if the stem itself is not a valid word in the Language.\n",
    "        · Stemming is actually more commonly used in information retrieval systems (IR systems) to normalize words to their base or root form.\n",
    "    Stemmer is an algorithm through which we perform stemming.\n",
    "    \n",
    "    In NLTK library there are two stemmer which we are going to use \n",
    "        1. Porter Stemmer (used for stemming in english language)\n",
    "        2. Snowball stemmer (used for stemming in different language)"
   ]
  },
  {
   "cell_type": "code",
   "execution_count": null,
   "id": "b2247aac",
   "metadata": {
    "execution": {
     "iopub.execute_input": "2024-05-22T13:50:04.451989Z",
     "iopub.status.busy": "2024-05-22T13:50:04.451648Z",
     "iopub.status.idle": "2024-05-22T13:50:06.550098Z",
     "shell.execute_reply": "2024-05-22T13:50:06.548890Z",
     "shell.execute_reply.started": "2024-05-22T13:50:04.451962Z"
    },
    "papermill": {
     "duration": null,
     "end_time": null,
     "exception": null,
     "start_time": null,
     "status": "pending"
    },
    "tags": []
   },
   "outputs": [],
   "source": [
    "from nltk.stem.porter import PorterStemmer"
   ]
  },
  {
   "cell_type": "code",
   "execution_count": null,
   "id": "cda81875",
   "metadata": {
    "execution": {
     "iopub.execute_input": "2024-05-22T13:55:12.006234Z",
     "iopub.status.busy": "2024-05-22T13:55:12.005270Z",
     "iopub.status.idle": "2024-05-22T13:55:12.011717Z",
     "shell.execute_reply": "2024-05-22T13:55:12.010795Z",
     "shell.execute_reply.started": "2024-05-22T13:55:12.006199Z"
    },
    "papermill": {
     "duration": null,
     "end_time": null,
     "exception": null,
     "start_time": null,
     "status": "pending"
    },
    "tags": []
   },
   "outputs": [],
   "source": [
    "ps = PorterStemmer()\n",
    "def stem_words(text):\n",
    "    return \" \".join([ps.stem(word) for word in text.split()])"
   ]
  },
  {
   "cell_type": "code",
   "execution_count": null,
   "id": "5a17540f",
   "metadata": {
    "execution": {
     "iopub.execute_input": "2024-05-22T13:55:15.233116Z",
     "iopub.status.busy": "2024-05-22T13:55:15.232479Z",
     "iopub.status.idle": "2024-05-22T13:55:15.240297Z",
     "shell.execute_reply": "2024-05-22T13:55:15.239164Z",
     "shell.execute_reply.started": "2024-05-22T13:55:15.233072Z"
    },
    "papermill": {
     "duration": null,
     "end_time": null,
     "exception": null,
     "start_time": null,
     "status": "pending"
    },
    "tags": []
   },
   "outputs": [],
   "source": [
    "sample = \"walk walks walking walked\"\n",
    "stem_words (sample)"
   ]
  },
  {
   "cell_type": "code",
   "execution_count": null,
   "id": "54318cfb",
   "metadata": {
    "execution": {
     "iopub.execute_input": "2024-05-22T13:55:20.114991Z",
     "iopub.status.busy": "2024-05-22T13:55:20.114609Z",
     "iopub.status.idle": "2024-05-22T13:55:20.121036Z",
     "shell.execute_reply": "2024-05-22T13:55:20.119926Z",
     "shell.execute_reply.started": "2024-05-22T13:55:20.114963Z"
    },
    "papermill": {
     "duration": null,
     "end_time": null,
     "exception": null,
     "start_time": null,
     "status": "pending"
    },
    "tags": []
   },
   "outputs": [],
   "source": [
    "text = '''probably my alltime favorite movie a story of selflessness sacrifice and dedication to a noble cause but its not preachy or boring it just never gets old despite my having seen it some 15 or\n",
    "more times in the last 25 years paul lukas performance brings tears to my eyes and bette davis in one of her very few truly sympathetic roles is a delight the kids are as grandma says more li\n",
    "ke dressedun midgets than children but that only makes them more fun to watch and the mothers slow awakening to whats happening in the world and under her own roof is believable and startling'''\n",
    "print(text)"
   ]
  },
  {
   "cell_type": "code",
   "execution_count": null,
   "id": "89833b7b",
   "metadata": {
    "execution": {
     "iopub.execute_input": "2024-05-22T13:55:37.201021Z",
     "iopub.status.busy": "2024-05-22T13:55:37.200648Z",
     "iopub.status.idle": "2024-05-22T13:55:37.212176Z",
     "shell.execute_reply": "2024-05-22T13:55:37.210881Z",
     "shell.execute_reply.started": "2024-05-22T13:55:37.200993Z"
    },
    "papermill": {
     "duration": null,
     "end_time": null,
     "exception": null,
     "start_time": null,
     "status": "pending"
    },
    "tags": []
   },
   "outputs": [],
   "source": [
    "stem_words(text)"
   ]
  },
  {
   "cell_type": "markdown",
   "id": "75c2f6ca",
   "metadata": {
    "papermill": {
     "duration": null,
     "end_time": null,
     "exception": null,
     "start_time": null,
     "status": "pending"
    },
    "tags": []
   },
   "source": [
    "# Lemmatization\n",
    "\n",
    "    Lemmatization unlike Stemming, reduces the inflected words properly ensuring that the root word belongs to the language. In Lemmatization root word is called Lemma.\n",
    "    \n",
    "    A lemma (plural lemmas or lemmata) is the canonical form, dictionary form, or citation form of a set of words.\n",
    "\n",
    "\t• In lemmatization we used to do search in lexical dictionary called wordnet, since stemming is an algorithm based that why it is fast and used where we don’t have to show output to user and lemmatization is a searching in dictionary based that why it's slow therefore it's used where we have to show output to user.\n",
    "    \n",
    "\t• And in lemmatization we have to indicate which POS  we have to convert.\n"
   ]
  },
  {
   "cell_type": "code",
   "execution_count": null,
   "id": "a51073a5",
   "metadata": {
    "papermill": {
     "duration": null,
     "end_time": null,
     "exception": null,
     "start_time": null,
     "status": "pending"
    },
    "tags": []
   },
   "outputs": [],
   "source": [
    "import nltk\n",
    "from nltk.stem import WordNetLemmatizer\n",
    "wordnet_lemmatizer = WordNetLemmatizer()\n",
    "\n",
    "sentence = \"He was running and eating at same time. He has bad habit of swimming after playing long hours in the Sun.\"\n",
    "punctuations=\"?:!.,;\"\n",
    "sentence_words = nltk.word_tokenize (sentence)\n",
    "for word in sentence_words:\n",
    "    if word in punctuations:\n",
    "        sentence_words.remove(word)\n",
    "sentence_words\n",
    "print(\"{0:20}{1:20}\".format(\"Word\", \"Lemma\"))\n",
    "for word in sentence_words:\n",
    "    print (\"{0:20}{1:20}\".format(word, wordnet_lemmatizer.lemmatize (word)))"
   ]
  }
 ],
 "metadata": {
  "kaggle": {
   "accelerator": "none",
   "dataSources": [
    {
     "datasetId": 5045663,
     "sourceId": 8463765,
     "sourceType": "datasetVersion"
    },
    {
     "datasetId": 5053181,
     "sourceId": 8473917,
     "sourceType": "datasetVersion"
    }
   ],
   "dockerImageVersionId": 30698,
   "isGpuEnabled": false,
   "isInternetEnabled": false,
   "language": "python",
   "sourceType": "notebook"
  },
  "kernelspec": {
   "display_name": "Python 3",
   "language": "python",
   "name": "python3"
  },
  "language_info": {
   "codemirror_mode": {
    "name": "ipython",
    "version": 3
   },
   "file_extension": ".py",
   "mimetype": "text/x-python",
   "name": "python",
   "nbconvert_exporter": "python",
   "pygments_lexer": "ipython3",
   "version": "3.10.13"
  },
  "papermill": {
   "default_parameters": {},
   "duration": null,
   "end_time": null,
   "environment_variables": {},
   "exception": null,
   "input_path": "__notebook__.ipynb",
   "output_path": "__notebook__.ipynb",
   "parameters": {},
   "start_time": "2024-05-23T00:27:56.330303",
   "version": "2.5.0"
  }
 },
 "nbformat": 4,
 "nbformat_minor": 5
}